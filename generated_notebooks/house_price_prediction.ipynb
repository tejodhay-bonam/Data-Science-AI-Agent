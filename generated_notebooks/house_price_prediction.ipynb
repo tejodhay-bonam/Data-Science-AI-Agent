{
 "cells": [
  {
   "cell_type": "markdown",
   "id": "de412eae",
   "metadata": {},
   "source": [
    "### Subtask 1: Load the Dataset\n",
    "- Load the housing dataset from the specified CSV file into a pandas DataFrame.\n",
    "- Display the first 5 rows to understand its structure.\n"
   ]
  },
  {
   "cell_type": "code",
   "execution_count": 1,
   "id": "95de5bf8",
   "metadata": {
    "execution": {
     "iopub.execute_input": "2025-05-21T03:26:30.399758Z",
     "iopub.status.busy": "2025-05-21T03:26:30.399758Z",
     "iopub.status.idle": "2025-05-21T03:26:31.045187Z",
     "shell.execute_reply": "2025-05-21T03:26:31.045187Z"
    }
   },
   "outputs": [
    {
     "data": {
      "text/html": [
       "<div>\n",
       "<style scoped>\n",
       "    .dataframe tbody tr th:only-of-type {\n",
       "        vertical-align: middle;\n",
       "    }\n",
       "\n",
       "    .dataframe tbody tr th {\n",
       "        vertical-align: top;\n",
       "    }\n",
       "\n",
       "    .dataframe thead th {\n",
       "        text-align: right;\n",
       "    }\n",
       "</style>\n",
       "<table border=\"1\" class=\"dataframe\">\n",
       "  <thead>\n",
       "    <tr style=\"text-align: right;\">\n",
       "      <th></th>\n",
       "      <th>longitude</th>\n",
       "      <th>latitude</th>\n",
       "      <th>housing_median_age</th>\n",
       "      <th>total_rooms</th>\n",
       "      <th>total_bedrooms</th>\n",
       "      <th>population</th>\n",
       "      <th>households</th>\n",
       "      <th>median_income</th>\n",
       "      <th>median_house_value</th>\n",
       "      <th>ocean_proximity</th>\n",
       "    </tr>\n",
       "  </thead>\n",
       "  <tbody>\n",
       "    <tr>\n",
       "      <th>0</th>\n",
       "      <td>-122.23</td>\n",
       "      <td>37.88</td>\n",
       "      <td>41.0</td>\n",
       "      <td>880.0</td>\n",
       "      <td>129.0</td>\n",
       "      <td>322.0</td>\n",
       "      <td>126.0</td>\n",
       "      <td>8.3252</td>\n",
       "      <td>452600.0</td>\n",
       "      <td>NEAR BAY</td>\n",
       "    </tr>\n",
       "    <tr>\n",
       "      <th>1</th>\n",
       "      <td>-122.22</td>\n",
       "      <td>37.86</td>\n",
       "      <td>21.0</td>\n",
       "      <td>7099.0</td>\n",
       "      <td>1106.0</td>\n",
       "      <td>2401.0</td>\n",
       "      <td>1138.0</td>\n",
       "      <td>8.3014</td>\n",
       "      <td>358500.0</td>\n",
       "      <td>NEAR BAY</td>\n",
       "    </tr>\n",
       "    <tr>\n",
       "      <th>2</th>\n",
       "      <td>-122.24</td>\n",
       "      <td>37.85</td>\n",
       "      <td>52.0</td>\n",
       "      <td>1467.0</td>\n",
       "      <td>190.0</td>\n",
       "      <td>496.0</td>\n",
       "      <td>177.0</td>\n",
       "      <td>7.2574</td>\n",
       "      <td>352100.0</td>\n",
       "      <td>NEAR BAY</td>\n",
       "    </tr>\n",
       "    <tr>\n",
       "      <th>3</th>\n",
       "      <td>-122.25</td>\n",
       "      <td>37.85</td>\n",
       "      <td>52.0</td>\n",
       "      <td>1274.0</td>\n",
       "      <td>235.0</td>\n",
       "      <td>558.0</td>\n",
       "      <td>219.0</td>\n",
       "      <td>5.6431</td>\n",
       "      <td>341300.0</td>\n",
       "      <td>NEAR BAY</td>\n",
       "    </tr>\n",
       "    <tr>\n",
       "      <th>4</th>\n",
       "      <td>-122.25</td>\n",
       "      <td>37.85</td>\n",
       "      <td>52.0</td>\n",
       "      <td>1627.0</td>\n",
       "      <td>280.0</td>\n",
       "      <td>565.0</td>\n",
       "      <td>259.0</td>\n",
       "      <td>3.8462</td>\n",
       "      <td>342200.0</td>\n",
       "      <td>NEAR BAY</td>\n",
       "    </tr>\n",
       "  </tbody>\n",
       "</table>\n",
       "</div>"
      ],
      "text/plain": [
       "   longitude  latitude  housing_median_age  total_rooms  total_bedrooms  \\\n",
       "0    -122.23     37.88                41.0        880.0           129.0   \n",
       "1    -122.22     37.86                21.0       7099.0          1106.0   \n",
       "2    -122.24     37.85                52.0       1467.0           190.0   \n",
       "3    -122.25     37.85                52.0       1274.0           235.0   \n",
       "4    -122.25     37.85                52.0       1627.0           280.0   \n",
       "\n",
       "   population  households  median_income  median_house_value ocean_proximity  \n",
       "0       322.0       126.0         8.3252            452600.0        NEAR BAY  \n",
       "1      2401.0      1138.0         8.3014            358500.0        NEAR BAY  \n",
       "2       496.0       177.0         7.2574            352100.0        NEAR BAY  \n",
       "3       558.0       219.0         5.6431            341300.0        NEAR BAY  \n",
       "4       565.0       259.0         3.8462            342200.0        NEAR BAY  "
      ]
     },
     "execution_count": 1,
     "metadata": {},
     "output_type": "execute_result"
    }
   ],
   "source": [
    "import pandas as pd\n",
    "\n",
    "# Load the housing dataset\n",
    "file_path = r'F:\\ITShoulders\\AI_Data_Science_agent\\temp_uploads\\housing.csv'\n",
    "housing_df = pd.read_csv(file_path)\n",
    "\n",
    "# Display the first 5 rows of the dataset\n",
    "housing_df.head()\n"
   ]
  },
  {
   "cell_type": "markdown",
   "id": "2ca621dc",
   "metadata": {},
   "source": [
    "### Subtask 2: Initial Data Exploration\n",
    "- Identify and summarize any missing values in each column.\n"
   ]
  },
  {
   "cell_type": "code",
   "execution_count": 2,
   "id": "ab1617d0",
   "metadata": {
    "execution": {
     "iopub.execute_input": "2025-05-21T03:26:31.047201Z",
     "iopub.status.busy": "2025-05-21T03:26:31.047201Z",
     "iopub.status.idle": "2025-05-21T03:26:31.053381Z",
     "shell.execute_reply": "2025-05-21T03:26:31.053381Z"
    }
   },
   "outputs": [
    {
     "data": {
      "text/plain": [
       "longitude               0\n",
       "latitude                0\n",
       "housing_median_age      0\n",
       "total_rooms             0\n",
       "total_bedrooms        207\n",
       "population              0\n",
       "households              0\n",
       "median_income           0\n",
       "median_house_value      0\n",
       "ocean_proximity         0\n",
       "dtype: int64"
      ]
     },
     "execution_count": 2,
     "metadata": {},
     "output_type": "execute_result"
    }
   ],
   "source": [
    "# Check for missing values in each column\n",
    "missing_values_summary = housing_df.isnull().sum()\n",
    "missing_values_summary\n"
   ]
  },
  {
   "cell_type": "markdown",
   "id": "1dfcf2f2",
   "metadata": {},
   "source": [
    "### Subtask 3: Statistical Summaries\n",
    "- Calculate and display basic statistical summaries for numerical columns to gain insights into data distribution.\n"
   ]
  },
  {
   "cell_type": "code",
   "execution_count": 3,
   "id": "8ee5e656",
   "metadata": {
    "execution": {
     "iopub.execute_input": "2025-05-21T03:26:31.054404Z",
     "iopub.status.busy": "2025-05-21T03:26:31.054404Z",
     "iopub.status.idle": "2025-05-21T03:26:31.080593Z",
     "shell.execute_reply": "2025-05-21T03:26:31.080593Z"
    }
   },
   "outputs": [
    {
     "data": {
      "text/html": [
       "<div>\n",
       "<style scoped>\n",
       "    .dataframe tbody tr th:only-of-type {\n",
       "        vertical-align: middle;\n",
       "    }\n",
       "\n",
       "    .dataframe tbody tr th {\n",
       "        vertical-align: top;\n",
       "    }\n",
       "\n",
       "    .dataframe thead th {\n",
       "        text-align: right;\n",
       "    }\n",
       "</style>\n",
       "<table border=\"1\" class=\"dataframe\">\n",
       "  <thead>\n",
       "    <tr style=\"text-align: right;\">\n",
       "      <th></th>\n",
       "      <th>longitude</th>\n",
       "      <th>latitude</th>\n",
       "      <th>housing_median_age</th>\n",
       "      <th>total_rooms</th>\n",
       "      <th>total_bedrooms</th>\n",
       "      <th>population</th>\n",
       "      <th>households</th>\n",
       "      <th>median_income</th>\n",
       "      <th>median_house_value</th>\n",
       "    </tr>\n",
       "  </thead>\n",
       "  <tbody>\n",
       "    <tr>\n",
       "      <th>count</th>\n",
       "      <td>20640.000000</td>\n",
       "      <td>20640.000000</td>\n",
       "      <td>20640.000000</td>\n",
       "      <td>20640.000000</td>\n",
       "      <td>20433.000000</td>\n",
       "      <td>20640.000000</td>\n",
       "      <td>20640.000000</td>\n",
       "      <td>20640.000000</td>\n",
       "      <td>20640.000000</td>\n",
       "    </tr>\n",
       "    <tr>\n",
       "      <th>mean</th>\n",
       "      <td>-119.569704</td>\n",
       "      <td>35.631861</td>\n",
       "      <td>28.639486</td>\n",
       "      <td>2635.763081</td>\n",
       "      <td>537.870553</td>\n",
       "      <td>1425.476744</td>\n",
       "      <td>499.539680</td>\n",
       "      <td>3.870671</td>\n",
       "      <td>206855.816909</td>\n",
       "    </tr>\n",
       "    <tr>\n",
       "      <th>std</th>\n",
       "      <td>2.003532</td>\n",
       "      <td>2.135952</td>\n",
       "      <td>12.585558</td>\n",
       "      <td>2181.615252</td>\n",
       "      <td>421.385070</td>\n",
       "      <td>1132.462122</td>\n",
       "      <td>382.329753</td>\n",
       "      <td>1.899822</td>\n",
       "      <td>115395.615874</td>\n",
       "    </tr>\n",
       "    <tr>\n",
       "      <th>min</th>\n",
       "      <td>-124.350000</td>\n",
       "      <td>32.540000</td>\n",
       "      <td>1.000000</td>\n",
       "      <td>2.000000</td>\n",
       "      <td>1.000000</td>\n",
       "      <td>3.000000</td>\n",
       "      <td>1.000000</td>\n",
       "      <td>0.499900</td>\n",
       "      <td>14999.000000</td>\n",
       "    </tr>\n",
       "    <tr>\n",
       "      <th>25%</th>\n",
       "      <td>-121.800000</td>\n",
       "      <td>33.930000</td>\n",
       "      <td>18.000000</td>\n",
       "      <td>1447.750000</td>\n",
       "      <td>296.000000</td>\n",
       "      <td>787.000000</td>\n",
       "      <td>280.000000</td>\n",
       "      <td>2.563400</td>\n",
       "      <td>119600.000000</td>\n",
       "    </tr>\n",
       "    <tr>\n",
       "      <th>50%</th>\n",
       "      <td>-118.490000</td>\n",
       "      <td>34.260000</td>\n",
       "      <td>29.000000</td>\n",
       "      <td>2127.000000</td>\n",
       "      <td>435.000000</td>\n",
       "      <td>1166.000000</td>\n",
       "      <td>409.000000</td>\n",
       "      <td>3.534800</td>\n",
       "      <td>179700.000000</td>\n",
       "    </tr>\n",
       "    <tr>\n",
       "      <th>75%</th>\n",
       "      <td>-118.010000</td>\n",
       "      <td>37.710000</td>\n",
       "      <td>37.000000</td>\n",
       "      <td>3148.000000</td>\n",
       "      <td>647.000000</td>\n",
       "      <td>1725.000000</td>\n",
       "      <td>605.000000</td>\n",
       "      <td>4.743250</td>\n",
       "      <td>264725.000000</td>\n",
       "    </tr>\n",
       "    <tr>\n",
       "      <th>max</th>\n",
       "      <td>-114.310000</td>\n",
       "      <td>41.950000</td>\n",
       "      <td>52.000000</td>\n",
       "      <td>39320.000000</td>\n",
       "      <td>6445.000000</td>\n",
       "      <td>35682.000000</td>\n",
       "      <td>6082.000000</td>\n",
       "      <td>15.000100</td>\n",
       "      <td>500001.000000</td>\n",
       "    </tr>\n",
       "  </tbody>\n",
       "</table>\n",
       "</div>"
      ],
      "text/plain": [
       "          longitude      latitude  housing_median_age   total_rooms  \\\n",
       "count  20640.000000  20640.000000        20640.000000  20640.000000   \n",
       "mean    -119.569704     35.631861           28.639486   2635.763081   \n",
       "std        2.003532      2.135952           12.585558   2181.615252   \n",
       "min     -124.350000     32.540000            1.000000      2.000000   \n",
       "25%     -121.800000     33.930000           18.000000   1447.750000   \n",
       "50%     -118.490000     34.260000           29.000000   2127.000000   \n",
       "75%     -118.010000     37.710000           37.000000   3148.000000   \n",
       "max     -114.310000     41.950000           52.000000  39320.000000   \n",
       "\n",
       "       total_bedrooms    population    households  median_income  \\\n",
       "count    20433.000000  20640.000000  20640.000000   20640.000000   \n",
       "mean       537.870553   1425.476744    499.539680       3.870671   \n",
       "std        421.385070   1132.462122    382.329753       1.899822   \n",
       "min          1.000000      3.000000      1.000000       0.499900   \n",
       "25%        296.000000    787.000000    280.000000       2.563400   \n",
       "50%        435.000000   1166.000000    409.000000       3.534800   \n",
       "75%        647.000000   1725.000000    605.000000       4.743250   \n",
       "max       6445.000000  35682.000000   6082.000000      15.000100   \n",
       "\n",
       "       median_house_value  \n",
       "count        20640.000000  \n",
       "mean        206855.816909  \n",
       "std         115395.615874  \n",
       "min          14999.000000  \n",
       "25%         119600.000000  \n",
       "50%         179700.000000  \n",
       "75%         264725.000000  \n",
       "max         500001.000000  "
      ]
     },
     "execution_count": 3,
     "metadata": {},
     "output_type": "execute_result"
    }
   ],
   "source": [
    "# Display basic statistical summaries for numerical columns\n",
    "numerical_summary = housing_df.describe()\n",
    "numerical_summary\n"
   ]
  },
  {
   "cell_type": "markdown",
   "id": "8e4c3293",
   "metadata": {},
   "source": [
    "### Subtask 4: Data Visualization\n",
    "- Create visualizations, such as histograms or box plots, for key numerical variables to understand their distributions and potential impact on house prices.\n"
   ]
  },
  {
   "cell_type": "code",
   "execution_count": 4,
   "id": "56f9c01c",
   "metadata": {
    "execution": {
     "iopub.execute_input": "2025-05-21T03:26:31.082608Z",
     "iopub.status.busy": "2025-05-21T03:26:31.081600Z",
     "iopub.status.idle": "2025-05-21T03:26:32.077057Z",
     "shell.execute_reply": "2025-05-21T03:26:32.077057Z"
    }
   },
   "outputs": [
    {
     "name": "stderr",
     "output_type": "stream",
     "text": [
      "C:\\Users\\TEJODHAY\\AppData\\Local\\Temp\\ipykernel_25048\\175106366.py:6: UserWarning: FigureCanvasAgg is non-interactive, and thus cannot be shown\n",
      "  plt.show()\n"
     ]
    }
   ],
   "source": [
    "import matplotlib.pyplot as plt\n",
    "\n",
    "# Plot histograms for key numerical variables\n",
    "housing_df.hist(bins=50, figsize=(20, 15))\n",
    "plt.tight_layout()\n",
    "plt.show()\n"
   ]
  },
  {
   "cell_type": "markdown",
   "id": "50fc8322",
   "metadata": {},
   "source": [
    "### Subtask 5: Data Preprocessing\n",
    "- Address missing values, encode categorical variables, and normalize or standardize numerical features as necessary for model training.\n"
   ]
  },
  {
   "cell_type": "code",
   "execution_count": 5,
   "id": "b350dce2",
   "metadata": {
    "execution": {
     "iopub.execute_input": "2025-05-21T03:26:32.079064Z",
     "iopub.status.busy": "2025-05-21T03:26:32.079064Z",
     "iopub.status.idle": "2025-05-21T03:26:33.829767Z",
     "shell.execute_reply": "2025-05-21T03:26:33.829767Z"
    }
   },
   "outputs": [
    {
     "data": {
      "text/html": [
       "<div>\n",
       "<style scoped>\n",
       "    .dataframe tbody tr th:only-of-type {\n",
       "        vertical-align: middle;\n",
       "    }\n",
       "\n",
       "    .dataframe tbody tr th {\n",
       "        vertical-align: top;\n",
       "    }\n",
       "\n",
       "    .dataframe thead th {\n",
       "        text-align: right;\n",
       "    }\n",
       "</style>\n",
       "<table border=\"1\" class=\"dataframe\">\n",
       "  <thead>\n",
       "    <tr style=\"text-align: right;\">\n",
       "      <th></th>\n",
       "      <th>longitude</th>\n",
       "      <th>latitude</th>\n",
       "      <th>housing_median_age</th>\n",
       "      <th>total_rooms</th>\n",
       "      <th>total_bedrooms</th>\n",
       "      <th>population</th>\n",
       "      <th>households</th>\n",
       "      <th>median_income</th>\n",
       "      <th>median_house_value</th>\n",
       "      <th>ocean_proximity_&lt;1H OCEAN</th>\n",
       "      <th>ocean_proximity_INLAND</th>\n",
       "      <th>ocean_proximity_ISLAND</th>\n",
       "      <th>ocean_proximity_NEAR BAY</th>\n",
       "      <th>ocean_proximity_NEAR OCEAN</th>\n",
       "    </tr>\n",
       "  </thead>\n",
       "  <tbody>\n",
       "    <tr>\n",
       "      <th>0</th>\n",
       "      <td>-1.327835</td>\n",
       "      <td>1.052548</td>\n",
       "      <td>0.982143</td>\n",
       "      <td>-0.804819</td>\n",
       "      <td>-0.972476</td>\n",
       "      <td>-0.974429</td>\n",
       "      <td>-0.977033</td>\n",
       "      <td>2.344766</td>\n",
       "      <td>452600.0</td>\n",
       "      <td>0.0</td>\n",
       "      <td>0.0</td>\n",
       "      <td>0.0</td>\n",
       "      <td>1.0</td>\n",
       "      <td>0.0</td>\n",
       "    </tr>\n",
       "    <tr>\n",
       "      <th>1</th>\n",
       "      <td>-1.322844</td>\n",
       "      <td>1.043185</td>\n",
       "      <td>-0.607019</td>\n",
       "      <td>2.045890</td>\n",
       "      <td>1.357143</td>\n",
       "      <td>0.861439</td>\n",
       "      <td>1.669961</td>\n",
       "      <td>2.332238</td>\n",
       "      <td>358500.0</td>\n",
       "      <td>0.0</td>\n",
       "      <td>0.0</td>\n",
       "      <td>0.0</td>\n",
       "      <td>1.0</td>\n",
       "      <td>0.0</td>\n",
       "    </tr>\n",
       "    <tr>\n",
       "      <th>2</th>\n",
       "      <td>-1.332827</td>\n",
       "      <td>1.038503</td>\n",
       "      <td>1.856182</td>\n",
       "      <td>-0.535746</td>\n",
       "      <td>-0.827024</td>\n",
       "      <td>-0.820777</td>\n",
       "      <td>-0.843637</td>\n",
       "      <td>1.782699</td>\n",
       "      <td>352100.0</td>\n",
       "      <td>0.0</td>\n",
       "      <td>0.0</td>\n",
       "      <td>0.0</td>\n",
       "      <td>1.0</td>\n",
       "      <td>0.0</td>\n",
       "    </tr>\n",
       "    <tr>\n",
       "      <th>3</th>\n",
       "      <td>-1.337818</td>\n",
       "      <td>1.038503</td>\n",
       "      <td>1.856182</td>\n",
       "      <td>-0.624215</td>\n",
       "      <td>-0.719723</td>\n",
       "      <td>-0.766028</td>\n",
       "      <td>-0.733781</td>\n",
       "      <td>0.932968</td>\n",
       "      <td>341300.0</td>\n",
       "      <td>0.0</td>\n",
       "      <td>0.0</td>\n",
       "      <td>0.0</td>\n",
       "      <td>1.0</td>\n",
       "      <td>0.0</td>\n",
       "    </tr>\n",
       "    <tr>\n",
       "      <th>4</th>\n",
       "      <td>-1.337818</td>\n",
       "      <td>1.038503</td>\n",
       "      <td>1.856182</td>\n",
       "      <td>-0.462404</td>\n",
       "      <td>-0.612423</td>\n",
       "      <td>-0.759847</td>\n",
       "      <td>-0.629157</td>\n",
       "      <td>-0.012881</td>\n",
       "      <td>342200.0</td>\n",
       "      <td>0.0</td>\n",
       "      <td>0.0</td>\n",
       "      <td>0.0</td>\n",
       "      <td>1.0</td>\n",
       "      <td>0.0</td>\n",
       "    </tr>\n",
       "  </tbody>\n",
       "</table>\n",
       "</div>"
      ],
      "text/plain": [
       "   longitude  latitude  housing_median_age  total_rooms  total_bedrooms  \\\n",
       "0  -1.327835  1.052548            0.982143    -0.804819       -0.972476   \n",
       "1  -1.322844  1.043185           -0.607019     2.045890        1.357143   \n",
       "2  -1.332827  1.038503            1.856182    -0.535746       -0.827024   \n",
       "3  -1.337818  1.038503            1.856182    -0.624215       -0.719723   \n",
       "4  -1.337818  1.038503            1.856182    -0.462404       -0.612423   \n",
       "\n",
       "   population  households  median_income  median_house_value  \\\n",
       "0   -0.974429   -0.977033       2.344766            452600.0   \n",
       "1    0.861439    1.669961       2.332238            358500.0   \n",
       "2   -0.820777   -0.843637       1.782699            352100.0   \n",
       "3   -0.766028   -0.733781       0.932968            341300.0   \n",
       "4   -0.759847   -0.629157      -0.012881            342200.0   \n",
       "\n",
       "   ocean_proximity_<1H OCEAN  ocean_proximity_INLAND  ocean_proximity_ISLAND  \\\n",
       "0                        0.0                     0.0                     0.0   \n",
       "1                        0.0                     0.0                     0.0   \n",
       "2                        0.0                     0.0                     0.0   \n",
       "3                        0.0                     0.0                     0.0   \n",
       "4                        0.0                     0.0                     0.0   \n",
       "\n",
       "   ocean_proximity_NEAR BAY  ocean_proximity_NEAR OCEAN  \n",
       "0                       1.0                         0.0  \n",
       "1                       1.0                         0.0  \n",
       "2                       1.0                         0.0  \n",
       "3                       1.0                         0.0  \n",
       "4                       1.0                         0.0  "
      ]
     },
     "execution_count": 5,
     "metadata": {},
     "output_type": "execute_result"
    }
   ],
   "source": [
    "from sklearn.impute import SimpleImputer\n",
    "from sklearn.preprocessing import OneHotEncoder, StandardScaler\n",
    "\n",
    "# Handle missing values for 'total_bedrooms'\n",
    "imputer = SimpleImputer(strategy='median')\n",
    "housing_df['total_bedrooms'] = imputer.fit_transform(housing_df[['total_bedrooms']])\n",
    "\n",
    "# Encode categorical variables 'ocean_proximity'\n",
    "encoder = OneHotEncoder(sparse_output=False)\n",
    "encoded_features = encoder.fit_transform(housing_df[['ocean_proximity']])\n",
    "encoded_features_df = pd.DataFrame(encoded_features, columns=encoder.get_feature_names_out(['ocean_proximity']))\n",
    "\n",
    "# Drop the original categorical column and add the encoded features\n",
    "housing_df = housing_df.drop('ocean_proximity', axis=1)\n",
    "housing_df = pd.concat([housing_df, encoded_features_df], axis=1)\n",
    "\n",
    "# Standardize numerical features\n",
    "scaler = StandardScaler()\n",
    "numerical_features = ['longitude', 'latitude', 'housing_median_age', 'total_rooms',\n",
    "                      'total_bedrooms', 'population', 'households', 'median_income']\n",
    "housing_df[numerical_features] = scaler.fit_transform(housing_df[numerical_features])\n",
    "\n",
    "# Display the preprocessed dataset\n",
    "housing_df.head()\n"
   ]
  },
  {
   "cell_type": "markdown",
   "id": "632d90f3",
   "metadata": {},
   "source": [
    "### Subtask 6: Data Splitting\n",
    "- Split the dataset into separate training and testing sets to prepare for model building and evaluation.\n"
   ]
  },
  {
   "cell_type": "code",
   "execution_count": 6,
   "id": "d6ec4f17",
   "metadata": {
    "execution": {
     "iopub.execute_input": "2025-05-21T03:26:33.831781Z",
     "iopub.status.busy": "2025-05-21T03:26:33.831781Z",
     "iopub.status.idle": "2025-05-21T03:26:33.843609Z",
     "shell.execute_reply": "2025-05-21T03:26:33.843609Z"
    }
   },
   "outputs": [
    {
     "data": {
      "text/plain": [
       "((16512, 13), (4128, 13), (16512,), (4128,))"
      ]
     },
     "execution_count": 6,
     "metadata": {},
     "output_type": "execute_result"
    }
   ],
   "source": [
    "from sklearn.model_selection import train_test_split\n",
    "\n",
    "# Separate the target variable and features\n",
    "X = housing_df.drop('median_house_value', axis=1)\n",
    "y = housing_df['median_house_value']\n",
    "\n",
    "# Split the dataset into training and testing sets\n",
    "X_train, X_test, y_train, y_test = train_test_split(X, y, test_size=0.2, random_state=42)\n",
    "\n",
    "# Display the shape of the training and testing sets\n",
    "(X_train.shape, X_test.shape, y_train.shape, y_test.shape)\n"
   ]
  },
  {
   "cell_type": "markdown",
   "id": "840505c6",
   "metadata": {},
   "source": [
    "### Subtask 7: Model Development\n",
    "- Develop multiple machine learning models, such as linear regression, decision tree, and random forest models, aimed at predicting house prices.\n"
   ]
  },
  {
   "cell_type": "code",
   "execution_count": 7,
   "id": "06e7bf30",
   "metadata": {
    "execution": {
     "iopub.execute_input": "2025-05-21T03:26:33.844606Z",
     "iopub.status.busy": "2025-05-21T03:26:33.844606Z",
     "iopub.status.idle": "2025-05-21T03:26:33.929819Z",
     "shell.execute_reply": "2025-05-21T03:26:33.929730Z"
    }
   },
   "outputs": [
    {
     "data": {
      "text/plain": [
       "{'Linear Regression': LinearRegression(),\n",
       " 'Decision Tree': DecisionTreeRegressor(random_state=42),\n",
       " 'Random Forest': RandomForestRegressor(random_state=42)}"
      ]
     },
     "execution_count": 7,
     "metadata": {},
     "output_type": "execute_result"
    }
   ],
   "source": [
    "from sklearn.linear_model import LinearRegression\n",
    "from sklearn.tree import DecisionTreeRegressor\n",
    "from sklearn.ensemble import RandomForestRegressor\n",
    "\n",
    "# Initialize the models\n",
    "linear_regression_model = LinearRegression()\n",
    "decision_tree_model = DecisionTreeRegressor(random_state=42)\n",
    "random_forest_model = RandomForestRegressor(random_state=42)\n",
    "\n",
    "# Store the models in a dictionary for easy access\n",
    "models = {\n",
    "    'Linear Regression': linear_regression_model,\n",
    "    'Decision Tree': decision_tree_model,\n",
    "    'Random Forest': random_forest_model\n",
    "}\n",
    "\n",
    "# Display the initialized models\n",
    "models\n"
   ]
  },
  {
   "cell_type": "markdown",
   "id": "07c5ea15",
   "metadata": {},
   "source": [
    "### Subtask 8: Model Training and Evaluation\n",
    "- Train each model on the training dataset and assess their performance on the testing dataset using metrics like RMSE or R-squared.\n"
   ]
  },
  {
   "cell_type": "code",
   "execution_count": 8,
   "id": "4bc2476a",
   "metadata": {
    "execution": {
     "iopub.execute_input": "2025-05-21T03:26:33.931473Z",
     "iopub.status.busy": "2025-05-21T03:26:33.931473Z",
     "iopub.status.idle": "2025-05-21T03:26:44.316692Z",
     "shell.execute_reply": "2025-05-21T03:26:44.316692Z"
    }
   },
   "outputs": [
    {
     "data": {
      "text/plain": [
       "{'Linear Regression': {'RMSE': np.float64(70060.5218447352),\n",
       "  'R-squared': 0.6254240620553605},\n",
       " 'Decision Tree': {'RMSE': np.float64(69116.02657873192),\n",
       "  'R-squared': 0.6354554029044672},\n",
       " 'Random Forest': {'RMSE': np.float64(48975.818369986104),\n",
       "  'R-squared': 0.8169555593071559}}"
      ]
     },
     "execution_count": 8,
     "metadata": {},
     "output_type": "execute_result"
    }
   ],
   "source": [
    "from sklearn.metrics import mean_squared_error, r2_score\n",
    "import numpy as np\n",
    "\n",
    "# Train and evaluate each model\n",
    "model_performance = {}\n",
    "\n",
    "for model_name, model in models.items():\n",
    "    # Train the model\n",
    "    model.fit(X_train, y_train)\n",
    "    \n",
    "    # Make predictions\n",
    "    predictions = model.predict(X_test)\n",
    "    \n",
    "    # Calculate evaluation metrics\n",
    "    rmse = np.sqrt(mean_squared_error(y_test, predictions))\n",
    "    r_squared = r2_score(y_test, predictions)\n",
    "    \n",
    "    # Store the performance\n",
    "    model_performance[model_name] = {'RMSE': rmse, 'R-squared': r_squared}\n",
    "\n",
    "# Display the model performance\n",
    "model_performance\n"
   ]
  },
  {
   "cell_type": "markdown",
   "id": "dfd9ec31",
   "metadata": {},
   "source": [
    "### Subtask 9: Model Comparison\n",
    "- Compare the model performances based on evaluation metrics to determine and select the best model.\n"
   ]
  },
  {
   "cell_type": "code",
   "execution_count": 9,
   "id": "d1a32081",
   "metadata": {
    "execution": {
     "iopub.execute_input": "2025-05-21T03:26:44.318691Z",
     "iopub.status.busy": "2025-05-21T03:26:44.318691Z",
     "iopub.status.idle": "2025-05-21T03:26:44.322323Z",
     "shell.execute_reply": "2025-05-21T03:26:44.322224Z"
    }
   },
   "outputs": [
    {
     "data": {
      "text/plain": [
       "('Random Forest',\n",
       " {'RMSE': np.float64(48975.818369986104), 'R-squared': 0.8169555593071559})"
      ]
     },
     "execution_count": 9,
     "metadata": {},
     "output_type": "execute_result"
    }
   ],
   "source": [
    "# Determine the best model based on RMSE\n",
    "best_model_name = min(model_performance, key=lambda model: model_performance[model]['RMSE'])\n",
    "best_model_performance = model_performance[best_model_name]\n",
    "\n",
    "# Display the best model and its performance\n",
    "best_model_name, best_model_performance\n"
   ]
  },
  {
   "cell_type": "markdown",
   "id": "fa0f8f39",
   "metadata": {},
   "source": [
    "### Subtask 10: Production-Ready Inference Function\n",
    "- Develop a production-ready function that includes necessary preprocessing steps and uses the best model for house price prediction based on new data inputs.\n"
   ]
  },
  {
   "cell_type": "code",
   "execution_count": 10,
   "id": "90c861c4",
   "metadata": {
    "execution": {
     "iopub.execute_input": "2025-05-21T03:26:44.323246Z",
     "iopub.status.busy": "2025-05-21T03:26:44.323246Z",
     "iopub.status.idle": "2025-05-21T03:26:44.339680Z",
     "shell.execute_reply": "2025-05-21T03:26:44.339680Z"
    }
   },
   "outputs": [
    {
     "data": {
      "text/plain": [
       "array([431942.36])"
      ]
     },
     "execution_count": 10,
     "metadata": {},
     "output_type": "execute_result"
    }
   ],
   "source": [
    "def predict_house_price(new_data):\n",
    "    \"\"\"Preprocess input data and predict house prices using the trained Random Forest model.\"\"\"\n",
    "    # Ensure new data is a DataFrame\n",
    "    if not isinstance(new_data, pd.DataFrame):\n",
    "        new_data = pd.DataFrame(new_data, index=[0])\n",
    "    \n",
    "    # Handle missing values\n",
    "    new_data['total_bedrooms'] = imputer.transform(new_data[['total_bedrooms']])\n",
    "    \n",
    "    # Encode categorical variables\n",
    "    encoded_features = encoder.transform(new_data[['ocean_proximity']])\n",
    "    encoded_features_df = pd.DataFrame(encoded_features, columns=encoder.get_feature_names_out(['ocean_proximity']))\n",
    "    \n",
    "    # Add encoded features and drop original categorical column\n",
    "    new_data = new_data.drop('ocean_proximity', axis=1)\n",
    "    new_data = pd.concat([new_data, encoded_features_df], axis=1)\n",
    "    \n",
    "    # Standardize numerical features\n",
    "    new_data[numerical_features] = scaler.transform(new_data[numerical_features])\n",
    "    \n",
    "    # Predict using the Random Forest model\n",
    "    predictions = models['Random Forest'].predict(new_data)\n",
    "    \n",
    "    return predictions\n",
    "\n",
    "# Example usage with dummy data\n",
    "example_data = {\n",
    "    'longitude': -122.23,\n",
    "    'latitude': 37.88,\n",
    "    'housing_median_age': 41.0,\n",
    "    'total_rooms': 880.0,\n",
    "    'total_bedrooms': 129.0,\n",
    "    'population': 322.0,\n",
    "    'households': 126.0,\n",
    "    'median_income': 8.3252,\n",
    "    'ocean_proximity': 'NEAR BAY'\n",
    "}\n",
    "\n",
    "predict_house_price(example_data)\n"
   ]
  }
 ],
 "metadata": {
  "language_info": {
   "codemirror_mode": {
    "name": "ipython",
    "version": 3
   },
   "file_extension": ".py",
   "mimetype": "text/x-python",
   "name": "python",
   "nbconvert_exporter": "python",
   "pygments_lexer": "ipython3",
   "version": "3.12.6"
  }
 },
 "nbformat": 4,
 "nbformat_minor": 5
}
