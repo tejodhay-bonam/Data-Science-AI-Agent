{
 "cells": [
  {
   "cell_type": "markdown",
   "id": "0a1ceb70",
   "metadata": {},
   "source": [
    "### Subtask 1: Load the Dataset\n",
    "- Load the dataset from the specified CSV file into a pandas DataFrame.\n"
   ]
  },
  {
   "cell_type": "code",
   "execution_count": 1,
   "id": "a8371a2f",
   "metadata": {
    "execution": {
     "iopub.execute_input": "2025-05-21T05:09:33.486263Z",
     "iopub.status.busy": "2025-05-21T05:09:33.485264Z",
     "iopub.status.idle": "2025-05-21T05:09:34.018950Z",
     "shell.execute_reply": "2025-05-21T05:09:34.018950Z"
    }
   },
   "outputs": [
    {
     "data": {
      "text/html": [
       "<div>\n",
       "<style scoped>\n",
       "    .dataframe tbody tr th:only-of-type {\n",
       "        vertical-align: middle;\n",
       "    }\n",
       "\n",
       "    .dataframe tbody tr th {\n",
       "        vertical-align: top;\n",
       "    }\n",
       "\n",
       "    .dataframe thead th {\n",
       "        text-align: right;\n",
       "    }\n",
       "</style>\n",
       "<table border=\"1\" class=\"dataframe\">\n",
       "  <thead>\n",
       "    <tr style=\"text-align: right;\">\n",
       "      <th></th>\n",
       "      <th>longitude</th>\n",
       "      <th>latitude</th>\n",
       "      <th>housing_median_age</th>\n",
       "      <th>total_rooms</th>\n",
       "      <th>total_bedrooms</th>\n",
       "      <th>population</th>\n",
       "      <th>households</th>\n",
       "      <th>median_income</th>\n",
       "      <th>median_house_value</th>\n",
       "      <th>ocean_proximity</th>\n",
       "    </tr>\n",
       "  </thead>\n",
       "  <tbody>\n",
       "    <tr>\n",
       "      <th>0</th>\n",
       "      <td>-122.23</td>\n",
       "      <td>37.88</td>\n",
       "      <td>41.0</td>\n",
       "      <td>880.0</td>\n",
       "      <td>129.0</td>\n",
       "      <td>322.0</td>\n",
       "      <td>126.0</td>\n",
       "      <td>8.3252</td>\n",
       "      <td>452600.0</td>\n",
       "      <td>NEAR BAY</td>\n",
       "    </tr>\n",
       "    <tr>\n",
       "      <th>1</th>\n",
       "      <td>-122.22</td>\n",
       "      <td>37.86</td>\n",
       "      <td>21.0</td>\n",
       "      <td>7099.0</td>\n",
       "      <td>1106.0</td>\n",
       "      <td>2401.0</td>\n",
       "      <td>1138.0</td>\n",
       "      <td>8.3014</td>\n",
       "      <td>358500.0</td>\n",
       "      <td>NEAR BAY</td>\n",
       "    </tr>\n",
       "    <tr>\n",
       "      <th>2</th>\n",
       "      <td>-122.24</td>\n",
       "      <td>37.85</td>\n",
       "      <td>52.0</td>\n",
       "      <td>1467.0</td>\n",
       "      <td>190.0</td>\n",
       "      <td>496.0</td>\n",
       "      <td>177.0</td>\n",
       "      <td>7.2574</td>\n",
       "      <td>352100.0</td>\n",
       "      <td>NEAR BAY</td>\n",
       "    </tr>\n",
       "    <tr>\n",
       "      <th>3</th>\n",
       "      <td>-122.25</td>\n",
       "      <td>37.85</td>\n",
       "      <td>52.0</td>\n",
       "      <td>1274.0</td>\n",
       "      <td>235.0</td>\n",
       "      <td>558.0</td>\n",
       "      <td>219.0</td>\n",
       "      <td>5.6431</td>\n",
       "      <td>341300.0</td>\n",
       "      <td>NEAR BAY</td>\n",
       "    </tr>\n",
       "    <tr>\n",
       "      <th>4</th>\n",
       "      <td>-122.25</td>\n",
       "      <td>37.85</td>\n",
       "      <td>52.0</td>\n",
       "      <td>1627.0</td>\n",
       "      <td>280.0</td>\n",
       "      <td>565.0</td>\n",
       "      <td>259.0</td>\n",
       "      <td>3.8462</td>\n",
       "      <td>342200.0</td>\n",
       "      <td>NEAR BAY</td>\n",
       "    </tr>\n",
       "  </tbody>\n",
       "</table>\n",
       "</div>"
      ],
      "text/plain": [
       "   longitude  latitude  housing_median_age  total_rooms  total_bedrooms  \\\n",
       "0    -122.23     37.88                41.0        880.0           129.0   \n",
       "1    -122.22     37.86                21.0       7099.0          1106.0   \n",
       "2    -122.24     37.85                52.0       1467.0           190.0   \n",
       "3    -122.25     37.85                52.0       1274.0           235.0   \n",
       "4    -122.25     37.85                52.0       1627.0           280.0   \n",
       "\n",
       "   population  households  median_income  median_house_value ocean_proximity  \n",
       "0       322.0       126.0         8.3252            452600.0        NEAR BAY  \n",
       "1      2401.0      1138.0         8.3014            358500.0        NEAR BAY  \n",
       "2       496.0       177.0         7.2574            352100.0        NEAR BAY  \n",
       "3       558.0       219.0         5.6431            341300.0        NEAR BAY  \n",
       "4       565.0       259.0         3.8462            342200.0        NEAR BAY  "
      ]
     },
     "execution_count": 1,
     "metadata": {},
     "output_type": "execute_result"
    }
   ],
   "source": [
    "# Load the dataset\n",
    "import pandas as pd\n",
    "\n",
    "# Load the dataset into a pandas DataFrame\n",
    "file_path = r'F:\\ITShoulders\\AI_Data_Science_agent\\temp_uploads\\housing.csv'\n",
    "housing_df = pd.read_csv(file_path)\n",
    "housing_df.head()\n"
   ]
  },
  {
   "cell_type": "markdown",
   "id": "6e6bf71f",
   "metadata": {},
   "source": [
    "### Subtask 2: Display the First 5 Rows\n",
    "- Display the first 5 rows of the DataFrame to get an initial understanding of the data structure.\n"
   ]
  },
  {
   "cell_type": "code",
   "execution_count": 2,
   "id": "ba1e40f9",
   "metadata": {
    "execution": {
     "iopub.execute_input": "2025-05-21T05:09:34.019964Z",
     "iopub.status.busy": "2025-05-21T05:09:34.019964Z",
     "iopub.status.idle": "2025-05-21T05:09:34.028242Z",
     "shell.execute_reply": "2025-05-21T05:09:34.028242Z"
    }
   },
   "outputs": [
    {
     "data": {
      "text/html": [
       "<div>\n",
       "<style scoped>\n",
       "    .dataframe tbody tr th:only-of-type {\n",
       "        vertical-align: middle;\n",
       "    }\n",
       "\n",
       "    .dataframe tbody tr th {\n",
       "        vertical-align: top;\n",
       "    }\n",
       "\n",
       "    .dataframe thead th {\n",
       "        text-align: right;\n",
       "    }\n",
       "</style>\n",
       "<table border=\"1\" class=\"dataframe\">\n",
       "  <thead>\n",
       "    <tr style=\"text-align: right;\">\n",
       "      <th></th>\n",
       "      <th>longitude</th>\n",
       "      <th>latitude</th>\n",
       "      <th>housing_median_age</th>\n",
       "      <th>total_rooms</th>\n",
       "      <th>total_bedrooms</th>\n",
       "      <th>population</th>\n",
       "      <th>households</th>\n",
       "      <th>median_income</th>\n",
       "      <th>median_house_value</th>\n",
       "      <th>ocean_proximity</th>\n",
       "    </tr>\n",
       "  </thead>\n",
       "  <tbody>\n",
       "    <tr>\n",
       "      <th>0</th>\n",
       "      <td>-122.23</td>\n",
       "      <td>37.88</td>\n",
       "      <td>41.0</td>\n",
       "      <td>880.0</td>\n",
       "      <td>129.0</td>\n",
       "      <td>322.0</td>\n",
       "      <td>126.0</td>\n",
       "      <td>8.3252</td>\n",
       "      <td>452600.0</td>\n",
       "      <td>NEAR BAY</td>\n",
       "    </tr>\n",
       "    <tr>\n",
       "      <th>1</th>\n",
       "      <td>-122.22</td>\n",
       "      <td>37.86</td>\n",
       "      <td>21.0</td>\n",
       "      <td>7099.0</td>\n",
       "      <td>1106.0</td>\n",
       "      <td>2401.0</td>\n",
       "      <td>1138.0</td>\n",
       "      <td>8.3014</td>\n",
       "      <td>358500.0</td>\n",
       "      <td>NEAR BAY</td>\n",
       "    </tr>\n",
       "    <tr>\n",
       "      <th>2</th>\n",
       "      <td>-122.24</td>\n",
       "      <td>37.85</td>\n",
       "      <td>52.0</td>\n",
       "      <td>1467.0</td>\n",
       "      <td>190.0</td>\n",
       "      <td>496.0</td>\n",
       "      <td>177.0</td>\n",
       "      <td>7.2574</td>\n",
       "      <td>352100.0</td>\n",
       "      <td>NEAR BAY</td>\n",
       "    </tr>\n",
       "    <tr>\n",
       "      <th>3</th>\n",
       "      <td>-122.25</td>\n",
       "      <td>37.85</td>\n",
       "      <td>52.0</td>\n",
       "      <td>1274.0</td>\n",
       "      <td>235.0</td>\n",
       "      <td>558.0</td>\n",
       "      <td>219.0</td>\n",
       "      <td>5.6431</td>\n",
       "      <td>341300.0</td>\n",
       "      <td>NEAR BAY</td>\n",
       "    </tr>\n",
       "    <tr>\n",
       "      <th>4</th>\n",
       "      <td>-122.25</td>\n",
       "      <td>37.85</td>\n",
       "      <td>52.0</td>\n",
       "      <td>1627.0</td>\n",
       "      <td>280.0</td>\n",
       "      <td>565.0</td>\n",
       "      <td>259.0</td>\n",
       "      <td>3.8462</td>\n",
       "      <td>342200.0</td>\n",
       "      <td>NEAR BAY</td>\n",
       "    </tr>\n",
       "  </tbody>\n",
       "</table>\n",
       "</div>"
      ],
      "text/plain": [
       "   longitude  latitude  housing_median_age  total_rooms  total_bedrooms  \\\n",
       "0    -122.23     37.88                41.0        880.0           129.0   \n",
       "1    -122.22     37.86                21.0       7099.0          1106.0   \n",
       "2    -122.24     37.85                52.0       1467.0           190.0   \n",
       "3    -122.25     37.85                52.0       1274.0           235.0   \n",
       "4    -122.25     37.85                52.0       1627.0           280.0   \n",
       "\n",
       "   population  households  median_income  median_house_value ocean_proximity  \n",
       "0       322.0       126.0         8.3252            452600.0        NEAR BAY  \n",
       "1      2401.0      1138.0         8.3014            358500.0        NEAR BAY  \n",
       "2       496.0       177.0         7.2574            352100.0        NEAR BAY  \n",
       "3       558.0       219.0         5.6431            341300.0        NEAR BAY  \n",
       "4       565.0       259.0         3.8462            342200.0        NEAR BAY  "
      ]
     },
     "execution_count": 2,
     "metadata": {},
     "output_type": "execute_result"
    }
   ],
   "source": [
    "# Display the first 5 rows of the DataFrame\n",
    "housing_df.head()\n"
   ]
  },
  {
   "cell_type": "markdown",
   "id": "a7f23d46",
   "metadata": {},
   "source": [
    "### Subtask 3: Check for Missing Values\n",
    "- Check for missing values in the DataFrame and print a summary of missing data.\n"
   ]
  },
  {
   "cell_type": "code",
   "execution_count": 3,
   "id": "2e9df6a8",
   "metadata": {
    "execution": {
     "iopub.execute_input": "2025-05-21T05:09:34.029254Z",
     "iopub.status.busy": "2025-05-21T05:09:34.029254Z",
     "iopub.status.idle": "2025-05-21T05:09:34.034449Z",
     "shell.execute_reply": "2025-05-21T05:09:34.034449Z"
    }
   },
   "outputs": [
    {
     "data": {
      "text/plain": [
       "longitude               0\n",
       "latitude                0\n",
       "housing_median_age      0\n",
       "total_rooms             0\n",
       "total_bedrooms        207\n",
       "population              0\n",
       "households              0\n",
       "median_income           0\n",
       "median_house_value      0\n",
       "ocean_proximity         0\n",
       "dtype: int64"
      ]
     },
     "execution_count": 3,
     "metadata": {},
     "output_type": "execute_result"
    }
   ],
   "source": [
    "# Check for missing values in the DataFrame\n",
    "missing_values_summary = housing_df.isnull().sum()\n",
    "missing_values_summary\n"
   ]
  },
  {
   "cell_type": "markdown",
   "id": "79b868b8",
   "metadata": {},
   "source": [
    "### Subtask 4: Descriptive Statistics\n",
    "- Generate and display descriptive statistics of the dataset to understand the distribution of its features.\n"
   ]
  },
  {
   "cell_type": "code",
   "execution_count": 4,
   "id": "5a3ab83a",
   "metadata": {
    "execution": {
     "iopub.execute_input": "2025-05-21T05:09:34.035467Z",
     "iopub.status.busy": "2025-05-21T05:09:34.035467Z",
     "iopub.status.idle": "2025-05-21T05:09:34.054317Z",
     "shell.execute_reply": "2025-05-21T05:09:34.054317Z"
    }
   },
   "outputs": [
    {
     "data": {
      "text/html": [
       "<div>\n",
       "<style scoped>\n",
       "    .dataframe tbody tr th:only-of-type {\n",
       "        vertical-align: middle;\n",
       "    }\n",
       "\n",
       "    .dataframe tbody tr th {\n",
       "        vertical-align: top;\n",
       "    }\n",
       "\n",
       "    .dataframe thead th {\n",
       "        text-align: right;\n",
       "    }\n",
       "</style>\n",
       "<table border=\"1\" class=\"dataframe\">\n",
       "  <thead>\n",
       "    <tr style=\"text-align: right;\">\n",
       "      <th></th>\n",
       "      <th>longitude</th>\n",
       "      <th>latitude</th>\n",
       "      <th>housing_median_age</th>\n",
       "      <th>total_rooms</th>\n",
       "      <th>total_bedrooms</th>\n",
       "      <th>population</th>\n",
       "      <th>households</th>\n",
       "      <th>median_income</th>\n",
       "      <th>median_house_value</th>\n",
       "    </tr>\n",
       "  </thead>\n",
       "  <tbody>\n",
       "    <tr>\n",
       "      <th>count</th>\n",
       "      <td>20640.000000</td>\n",
       "      <td>20640.000000</td>\n",
       "      <td>20640.000000</td>\n",
       "      <td>20640.000000</td>\n",
       "      <td>20433.000000</td>\n",
       "      <td>20640.000000</td>\n",
       "      <td>20640.000000</td>\n",
       "      <td>20640.000000</td>\n",
       "      <td>20640.000000</td>\n",
       "    </tr>\n",
       "    <tr>\n",
       "      <th>mean</th>\n",
       "      <td>-119.569704</td>\n",
       "      <td>35.631861</td>\n",
       "      <td>28.639486</td>\n",
       "      <td>2635.763081</td>\n",
       "      <td>537.870553</td>\n",
       "      <td>1425.476744</td>\n",
       "      <td>499.539680</td>\n",
       "      <td>3.870671</td>\n",
       "      <td>206855.816909</td>\n",
       "    </tr>\n",
       "    <tr>\n",
       "      <th>std</th>\n",
       "      <td>2.003532</td>\n",
       "      <td>2.135952</td>\n",
       "      <td>12.585558</td>\n",
       "      <td>2181.615252</td>\n",
       "      <td>421.385070</td>\n",
       "      <td>1132.462122</td>\n",
       "      <td>382.329753</td>\n",
       "      <td>1.899822</td>\n",
       "      <td>115395.615874</td>\n",
       "    </tr>\n",
       "    <tr>\n",
       "      <th>min</th>\n",
       "      <td>-124.350000</td>\n",
       "      <td>32.540000</td>\n",
       "      <td>1.000000</td>\n",
       "      <td>2.000000</td>\n",
       "      <td>1.000000</td>\n",
       "      <td>3.000000</td>\n",
       "      <td>1.000000</td>\n",
       "      <td>0.499900</td>\n",
       "      <td>14999.000000</td>\n",
       "    </tr>\n",
       "    <tr>\n",
       "      <th>25%</th>\n",
       "      <td>-121.800000</td>\n",
       "      <td>33.930000</td>\n",
       "      <td>18.000000</td>\n",
       "      <td>1447.750000</td>\n",
       "      <td>296.000000</td>\n",
       "      <td>787.000000</td>\n",
       "      <td>280.000000</td>\n",
       "      <td>2.563400</td>\n",
       "      <td>119600.000000</td>\n",
       "    </tr>\n",
       "    <tr>\n",
       "      <th>50%</th>\n",
       "      <td>-118.490000</td>\n",
       "      <td>34.260000</td>\n",
       "      <td>29.000000</td>\n",
       "      <td>2127.000000</td>\n",
       "      <td>435.000000</td>\n",
       "      <td>1166.000000</td>\n",
       "      <td>409.000000</td>\n",
       "      <td>3.534800</td>\n",
       "      <td>179700.000000</td>\n",
       "    </tr>\n",
       "    <tr>\n",
       "      <th>75%</th>\n",
       "      <td>-118.010000</td>\n",
       "      <td>37.710000</td>\n",
       "      <td>37.000000</td>\n",
       "      <td>3148.000000</td>\n",
       "      <td>647.000000</td>\n",
       "      <td>1725.000000</td>\n",
       "      <td>605.000000</td>\n",
       "      <td>4.743250</td>\n",
       "      <td>264725.000000</td>\n",
       "    </tr>\n",
       "    <tr>\n",
       "      <th>max</th>\n",
       "      <td>-114.310000</td>\n",
       "      <td>41.950000</td>\n",
       "      <td>52.000000</td>\n",
       "      <td>39320.000000</td>\n",
       "      <td>6445.000000</td>\n",
       "      <td>35682.000000</td>\n",
       "      <td>6082.000000</td>\n",
       "      <td>15.000100</td>\n",
       "      <td>500001.000000</td>\n",
       "    </tr>\n",
       "  </tbody>\n",
       "</table>\n",
       "</div>"
      ],
      "text/plain": [
       "          longitude      latitude  housing_median_age   total_rooms  \\\n",
       "count  20640.000000  20640.000000        20640.000000  20640.000000   \n",
       "mean    -119.569704     35.631861           28.639486   2635.763081   \n",
       "std        2.003532      2.135952           12.585558   2181.615252   \n",
       "min     -124.350000     32.540000            1.000000      2.000000   \n",
       "25%     -121.800000     33.930000           18.000000   1447.750000   \n",
       "50%     -118.490000     34.260000           29.000000   2127.000000   \n",
       "75%     -118.010000     37.710000           37.000000   3148.000000   \n",
       "max     -114.310000     41.950000           52.000000  39320.000000   \n",
       "\n",
       "       total_bedrooms    population    households  median_income  \\\n",
       "count    20433.000000  20640.000000  20640.000000   20640.000000   \n",
       "mean       537.870553   1425.476744    499.539680       3.870671   \n",
       "std        421.385070   1132.462122    382.329753       1.899822   \n",
       "min          1.000000      3.000000      1.000000       0.499900   \n",
       "25%        296.000000    787.000000    280.000000       2.563400   \n",
       "50%        435.000000   1166.000000    409.000000       3.534800   \n",
       "75%        647.000000   1725.000000    605.000000       4.743250   \n",
       "max       6445.000000  35682.000000   6082.000000      15.000100   \n",
       "\n",
       "       median_house_value  \n",
       "count        20640.000000  \n",
       "mean        206855.816909  \n",
       "std         115395.615874  \n",
       "min          14999.000000  \n",
       "25%         119600.000000  \n",
       "50%         179700.000000  \n",
       "75%         264725.000000  \n",
       "max         500001.000000  "
      ]
     },
     "execution_count": 4,
     "metadata": {},
     "output_type": "execute_result"
    }
   ],
   "source": [
    "# Display descriptive statistics of the dataset\n",
    "descriptive_stats = housing_df.describe()\n",
    "descriptive_stats\n"
   ]
  },
  {
   "cell_type": "markdown",
   "id": "57f5ab0e",
   "metadata": {},
   "source": [
    "### Subtask 5: Visualizations for Insights\n",
    "- Create visualizations such as histograms, scatter plots, or pair plots to identify patterns and insights in the dataset.\n"
   ]
  },
  {
   "cell_type": "code",
   "execution_count": 5,
   "id": "9bea7812",
   "metadata": {
    "execution": {
     "iopub.execute_input": "2025-05-21T05:09:34.056261Z",
     "iopub.status.busy": "2025-05-21T05:09:34.056261Z",
     "iopub.status.idle": "2025-05-21T05:09:40.219688Z",
     "shell.execute_reply": "2025-05-21T05:09:40.219688Z"
    }
   },
   "outputs": [
    {
     "name": "stderr",
     "output_type": "stream",
     "text": [
      "C:\\Users\\TEJODHAY\\AppData\\Local\\Temp\\ipykernel_68568\\404283055.py:7: UserWarning: FigureCanvasAgg is non-interactive, and thus cannot be shown\n",
      "  plt.show()\n"
     ]
    },
    {
     "name": "stderr",
     "output_type": "stream",
     "text": [
      "C:\\Users\\TEJODHAY\\AppData\\Local\\Temp\\ipykernel_68568\\404283055.py:11: UserWarning: FigureCanvasAgg is non-interactive, and thus cannot be shown\n",
      "  plt.show()\n",
      "C:\\Users\\TEJODHAY\\AppData\\Local\\Temp\\ipykernel_68568\\404283055.py:20: UserWarning: FigureCanvasAgg is non-interactive, and thus cannot be shown\n",
      "  plt.show()\n"
     ]
    }
   ],
   "source": [
    "# Create visualizations to identify patterns and insights\n",
    "import matplotlib.pyplot as plt\n",
    "import seaborn as sns\n",
    "\n",
    "# Plot histograms for numerical features\n",
    "housing_df.hist(bins=50, figsize=(20, 15))\n",
    "plt.show()\n",
    "\n",
    "# Pair plot to observe relationships\n",
    "sns.pairplot(housing_df)\n",
    "plt.show()\n",
    "\n",
    "# Scatter plot to visualize relationship between median_income and median_house_value\n",
    "plt.figure(figsize=(10, 6))\n",
    "plt.scatter(housing_df['median_income'], housing_df['median_house_value'], alpha=0.1)\n",
    "plt.title('Median Income vs Median House Value')\n",
    "plt.xlabel('Median Income')\n",
    "plt.ylabel('Median House Value')\n",
    "plt.grid(True)\n",
    "plt.show()\n"
   ]
  },
  {
   "cell_type": "markdown",
   "id": "9022a016",
   "metadata": {},
   "source": [
    "### Subtask 6: Data Preprocessing\n",
    "- Preprocess the data by handling missing values, encoding categorical features, and standardizing numerical features.\n"
   ]
  },
  {
   "cell_type": "code",
   "execution_count": 6,
   "id": "4056c627",
   "metadata": {
    "execution": {
     "iopub.execute_input": "2025-05-21T05:09:40.221685Z",
     "iopub.status.busy": "2025-05-21T05:09:40.221685Z",
     "iopub.status.idle": "2025-05-21T05:09:40.484559Z",
     "shell.execute_reply": "2025-05-21T05:09:40.484559Z"
    }
   },
   "outputs": [
    {
     "data": {
      "text/plain": [
       "array([[-1.32783522,  1.05254828,  0.98214266, -0.8048191 , -0.97247648,\n",
       "        -0.9744286 , -0.97703285,  2.34476576,  0.        ,  0.        ,\n",
       "         0.        ,  1.        ,  0.        ],\n",
       "       [-1.32284391,  1.04318455, -0.60701891,  2.0458901 ,  1.35714343,\n",
       "         0.86143887,  1.66996103,  2.33223796,  0.        ,  0.        ,\n",
       "         0.        ,  1.        ,  0.        ],\n",
       "       [-1.33282653,  1.03850269,  1.85618152, -0.53574589, -0.82702426,\n",
       "        -0.82077735, -0.84363692,  1.7826994 ,  0.        ,  0.        ,\n",
       "         0.        ,  1.        ,  0.        ],\n",
       "       [-1.33781784,  1.03850269,  1.85618152, -0.62421459, -0.71972345,\n",
       "        -0.76602806, -0.73378144,  0.93296751,  0.        ,  0.        ,\n",
       "         0.        ,  1.        ,  0.        ],\n",
       "       [-1.33781784,  1.03850269,  1.85618152, -0.46240395, -0.61242263,\n",
       "        -0.75984669, -0.62915718, -0.012881  ,  0.        ,  0.        ,\n",
       "         0.        ,  1.        ,  0.        ]])"
      ]
     },
     "execution_count": 6,
     "metadata": {},
     "output_type": "execute_result"
    }
   ],
   "source": [
    "# Data preprocessing steps\n",
    "from sklearn.impute import SimpleImputer\n",
    "from sklearn.preprocessing import OneHotEncoder, StandardScaler\n",
    "from sklearn.compose import ColumnTransformer\n",
    "from sklearn.pipeline import Pipeline\n",
    "\n",
    "# Separate features and target variable\n",
    "X = housing_df.drop('median_house_value', axis=1)\n",
    "y = housing_df['median_house_value']\n",
    "\n",
    "# Identify numerical and categorical columns\n",
    "numerical_cols = X.select_dtypes(include=['int64', 'float64']).columns\n",
    "categorical_cols = X.select_dtypes(include=['object']).columns\n",
    "\n",
    "# Preprocessing pipelines for numerical and categorical features\n",
    "numerical_pipeline = Pipeline([\n",
    "    ('imputer', SimpleImputer(strategy='median')),\n",
    "    ('scaler', StandardScaler())\n",
    "])\n",
    "\n",
    "categorical_pipeline = Pipeline([\n",
    "    ('encoder', OneHotEncoder(sparse_output=False, handle_unknown='ignore'))\n",
    "])\n",
    "\n",
    "preprocessor = ColumnTransformer([\n",
    "    ('numerical', numerical_pipeline, numerical_cols),\n",
    "    ('categorical', categorical_pipeline, categorical_cols)\n",
    "])\n",
    "\n",
    "# Fit and transform the dataset\n",
    "X_processed = preprocessor.fit_transform(X)\n",
    "X_processed[:5]\n"
   ]
  },
  {
   "cell_type": "markdown",
   "id": "5854f321",
   "metadata": {},
   "source": [
    "### Subtask 7: Split the Dataset\n",
    "- Split the dataset into training and testing sets with an appropriate ratio for model evaluation.\n"
   ]
  },
  {
   "cell_type": "code",
   "execution_count": 7,
   "id": "f8d7092d",
   "metadata": {
    "execution": {
     "iopub.execute_input": "2025-05-21T05:09:40.486571Z",
     "iopub.status.busy": "2025-05-21T05:09:40.485572Z",
     "iopub.status.idle": "2025-05-21T05:09:40.492148Z",
     "shell.execute_reply": "2025-05-21T05:09:40.492148Z"
    }
   },
   "outputs": [
    {
     "data": {
      "text/plain": [
       "((16512, 13), (4128, 13), (16512,), (4128,))"
      ]
     },
     "execution_count": 7,
     "metadata": {},
     "output_type": "execute_result"
    }
   ],
   "source": [
    "# Split the dataset into training and testing sets\n",
    "from sklearn.model_selection import train_test_split\n",
    "\n",
    "# Split the data\n",
    "X_train, X_test, y_train, y_test = train_test_split(X_processed, y, test_size=0.2, random_state=42)\n",
    "\n",
    "# Output the shape of the datasets\n",
    "(X_train.shape, X_test.shape, y_train.shape, y_test.shape)\n"
   ]
  },
  {
   "cell_type": "markdown",
   "id": "0fe5000e",
   "metadata": {},
   "source": [
    "### Subtask 8: Train Machine Learning Models\n",
    "- Train several machine learning models, such as Linear Regression, Decision Tree, and Random Forest, on the training set to predict house prices.\n"
   ]
  },
  {
   "cell_type": "code",
   "execution_count": 8,
   "id": "ec757868",
   "metadata": {
    "execution": {
     "iopub.execute_input": "2025-05-21T05:09:40.494168Z",
     "iopub.status.busy": "2025-05-21T05:09:40.494168Z",
     "iopub.status.idle": "2025-05-21T05:09:50.736217Z",
     "shell.execute_reply": "2025-05-21T05:09:50.736217Z"
    }
   },
   "outputs": [
    {
     "data": {
      "text/plain": [
       "'Linear Regression, Decision Tree, and Random Forest models have been trained.'"
      ]
     },
     "execution_count": 8,
     "metadata": {},
     "output_type": "execute_result"
    }
   ],
   "source": [
    "# Train various machine learning models\n",
    "from sklearn.linear_model import LinearRegression\n",
    "from sklearn.tree import DecisionTreeRegressor\n",
    "from sklearn.ensemble import RandomForestRegressor\n",
    "\n",
    "# Initialize models\n",
    "linear_model = LinearRegression()\n",
    "tree_model = DecisionTreeRegressor(random_state=42)\n",
    "forest_model = RandomForestRegressor(random_state=42)\n",
    "\n",
    "# Train the models\n",
    "linear_model.fit(X_train, y_train)\n",
    "tree_model.fit(X_train, y_train)\n",
    "forest_model.fit(X_train, y_train)\n",
    "\n",
    "# Print model details\n",
    "('Linear Regression, Decision Tree, and Random Forest models have been trained.')\n"
   ]
  },
  {
   "cell_type": "markdown",
   "id": "62594f95",
   "metadata": {},
   "source": [
    "### Subtask 9: Evaluate Model Performance\n",
    "- Evaluate the performance of each trained model on the test set using metrics like Mean Absolute Error, Mean Squared Error, or R-squared.\n"
   ]
  },
  {
   "cell_type": "code",
   "execution_count": 9,
   "id": "5ae541b8",
   "metadata": {
    "execution": {
     "iopub.execute_input": "2025-05-21T05:09:50.738191Z",
     "iopub.status.busy": "2025-05-21T05:09:50.737192Z",
     "iopub.status.idle": "2025-05-21T05:09:50.829465Z",
     "shell.execute_reply": "2025-05-21T05:09:50.829465Z"
    }
   },
   "outputs": [
    {
     "data": {
      "text/plain": [
       "({'MAE': 50670.73824097192,\n",
       "  'MSE': 4908476721.156617,\n",
       "  'R2': 0.6254240620553605},\n",
       " {'MAE': 43600.67151162791,\n",
       "  'MSE': 4777025130.031977,\n",
       "  'R2': 0.6354554029044672},\n",
       " {'MAE': 31643.65566860465,\n",
       "  'MSE': 2398630785.009868,\n",
       "  'R2': 0.8169555593071559})"
      ]
     },
     "execution_count": 9,
     "metadata": {},
     "output_type": "execute_result"
    }
   ],
   "source": [
    "# Evaluate model performance\n",
    "from sklearn.metrics import mean_absolute_error, mean_squared_error, r2_score\n",
    "\n",
    "# Function to evaluate models\n",
    "def evaluate_model(model, X_test, y_test):\n",
    "    y_pred = model.predict(X_test)\n",
    "    mae = mean_absolute_error(y_test, y_pred)\n",
    "    mse = mean_squared_error(y_test, y_pred)\n",
    "    r2 = r2_score(y_test, y_pred)\n",
    "    return {'MAE': mae, 'MSE': mse, 'R2': r2}\n",
    "\n",
    "# Evaluate each model\n",
    "linear_results = evaluate_model(linear_model, X_test, y_test)\n",
    "tree_results = evaluate_model(tree_model, X_test, y_test)\n",
    "forest_results = evaluate_model(forest_model, X_test, y_test)\n",
    "\n",
    "(linear_results, tree_results, forest_results)\n"
   ]
  },
  {
   "cell_type": "markdown",
   "id": "83a6a4c6",
   "metadata": {},
   "source": [
    "### Subtask 10: Compare and Select the Best Model\n",
    "- Compare the performance of the models and select the best performing model based on evaluation metrics.\n"
   ]
  },
  {
   "cell_type": "code",
   "execution_count": 10,
   "id": "c6ededfd",
   "metadata": {
    "execution": {
     "iopub.execute_input": "2025-05-21T05:09:50.831476Z",
     "iopub.status.busy": "2025-05-21T05:09:50.830477Z",
     "iopub.status.idle": "2025-05-21T05:09:50.834602Z",
     "shell.execute_reply": "2025-05-21T05:09:50.834602Z"
    }
   },
   "outputs": [
    {
     "data": {
      "text/plain": [
       "('Random Forest',\n",
       " {'Linear Regression': 0.6254240620553605,\n",
       "  'Decision Tree': 0.6354554029044672,\n",
       "  'Random Forest': 0.8169555593071559})"
      ]
     },
     "execution_count": 10,
     "metadata": {},
     "output_type": "execute_result"
    }
   ],
   "source": [
    "# Compare model performances and select the best model\n",
    "model_performance = {\n",
    "    'Linear Regression': linear_results['R2'],\n",
    "    'Decision Tree': tree_results['R2'],\n",
    "    'Random Forest': forest_results['R2']\n",
    "}\n",
    "\n",
    "# Select the best model based on the highest R-squared value\n",
    "best_model_name = max(model_performance, key=model_performance.get)\n",
    "best_model = forest_model if best_model_name == 'Random Forest' else (linear_model if best_model_name == 'Linear Regression' else tree_model)\n",
    "\n",
    "(best_model_name, model_performance)\n"
   ]
  },
  {
   "cell_type": "markdown",
   "id": "d5fc8f14",
   "metadata": {},
   "source": [
    "### Subtask 11: Create a Production-Ready Inference Function\n",
    "- Create a production-ready function for making predictions using the best-performing model, ensuring the function can accept new data and output predictions.\n"
   ]
  },
  {
   "cell_type": "code",
   "execution_count": 11,
   "id": "cd939df2",
   "metadata": {
    "execution": {
     "iopub.execute_input": "2025-05-21T05:09:50.835581Z",
     "iopub.status.busy": "2025-05-21T05:09:50.835581Z",
     "iopub.status.idle": "2025-05-21T05:09:50.854781Z",
     "shell.execute_reply": "2025-05-21T05:09:50.854781Z"
    }
   },
   "outputs": [
    {
     "data": {
      "text/plain": [
       "array([431942.36])"
      ]
     },
     "execution_count": 11,
     "metadata": {},
     "output_type": "execute_result"
    }
   ],
   "source": [
    "# Create the inference function\n",
    "def predict_house_price(new_data, preprocessor, model):\n",
    "    # Transform the new data using the preprocessor\n",
    "    processed_data = preprocessor.transform(new_data)\n",
    "    # Predict using the model\n",
    "    prediction = model.predict(processed_data)\n",
    "    return prediction\n",
    "\n",
    "# Example use of the inference function\n",
    "# Create a sample input similar to the raw data\n",
    "sample_input = pd.DataFrame({\n",
    "    'longitude': [-122.23],\n",
    "    'latitude': [37.88],\n",
    "    'housing_median_age': [41.0],\n",
    "    'total_rooms': [880.0],\n",
    "    'total_bedrooms': [129.0],\n",
    "    'population': [322.0],\n",
    "    'households': [126.0],\n",
    "    'median_income': [8.3252],\n",
    "    'ocean_proximity': ['NEAR BAY']\n",
    "})\n",
    "\n",
    "# Predict the house price for the sample input\n",
    "predicted_price = predict_house_price(sample_input, preprocessor, best_model)\n",
    "predicted_price\n"
   ]
  },
  {
   "cell_type": "markdown",
   "id": "2c90a585",
   "metadata": {},
   "source": [
    "### Conclusion\n",
    "- Successfully analyzed the housing dataset and built multiple models.\n",
    "- Random Forest was selected as the best performing model based on R-squared values.\n",
    "- A production-ready inference function was created for predicting house prices.\n",
    "- Predicted house price for sample input: $431,942.36\n"
   ]
  },
  {
   "cell_type": "markdown",
   "id": "760f1a86",
   "metadata": {},
   "source": [
    "### Conclusion\n",
    "- Successfully analyzed the housing dataset and built multiple models.\n",
    "- Random Forest was selected as the best performing model based on R-squared values.\n",
    "- A production-ready inference function was created for predicting house prices.\n",
    "- Predicted house price for sample input: $431,942.36\n"
   ]
  },
  {
   "cell_type": "markdown",
   "id": "8a8377c8",
   "metadata": {},
   "source": [
    "The notebook has been successfully created with all subtasks executed, including data analysis, multiple model training, model evaluation, selecting the best model, and implementing a production-ready inference function. The Random Forest model was identified as the best-performing model based on its R-squared value. The notebook is now ready for sharing or further enhancements."
   ]
  }
 ],
 "metadata": {
  "language_info": {
   "codemirror_mode": {
    "name": "ipython",
    "version": 3
   },
   "file_extension": ".py",
   "mimetype": "text/x-python",
   "name": "python",
   "nbconvert_exporter": "python",
   "pygments_lexer": "ipython3",
   "version": "3.12.6"
  }
 },
 "nbformat": 4,
 "nbformat_minor": 5
}
